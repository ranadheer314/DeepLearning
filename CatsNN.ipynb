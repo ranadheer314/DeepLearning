{
 "cells": [
  {
   "cell_type": "code",
   "execution_count": 39,
   "metadata": {},
   "outputs": [],
   "source": [
    "import numpy as np\n",
    "import pandas as pd\n",
    "import matplotlib.pyplot as plt\n",
    "import seaborn as snb\n",
    "import h5py\n",
    "import scipy\n",
    "from PIL import Image\n",
    "from scipy import ndimage\n",
    "from lr_utils import load_dataset\n",
    "np.random.seed(1)\n",
    "\n",
    "%matplotlib inline\n",
    "X_tr,Y_tr,X_te,Y_te,labels=load_dataset() #The images are in h5 datasets(?????)\n",
    "TrainingImages=X_tr\n",
    "TestingImages=X_te"
   ]
  },
  {
   "cell_type": "code",
   "execution_count": 40,
   "metadata": {},
   "outputs": [],
   "source": [
    "A=np.array([[1,2,3],[4,5,6]])"
   ]
  },
  {
   "cell_type": "code",
   "execution_count": 41,
   "metadata": {},
   "outputs": [],
   "source": [
    "B=np.array([[1,2,3],[4,5,6]])"
   ]
  },
  {
   "cell_type": "code",
   "execution_count": 42,
   "metadata": {},
   "outputs": [
    {
     "name": "stdout",
     "output_type": "stream",
     "text": [
      "[[14 32]\n",
      " [32 77]]\n"
     ]
    }
   ],
   "source": [
    "print(np.dot(A,B.T))"
   ]
  },
  {
   "cell_type": "code",
   "execution_count": 43,
   "metadata": {},
   "outputs": [
    {
     "name": "stdout",
     "output_type": "stream",
     "text": [
      "shape of the training dataset: (12288, 209)\n"
     ]
    }
   ],
   "source": [
    "X_tr=X_tr.reshape(X_tr.shape[0],-1)\n",
    "X_tr=X_tr.T/255\n",
    "print(\"shape of the training dataset: \"+str(X_tr.shape))"
   ]
  },
  {
   "cell_type": "code",
   "execution_count": 44,
   "metadata": {},
   "outputs": [
    {
     "data": {
      "text/plain": [
       "array([[0.06666667, 0.76862745, 0.32156863, ..., 0.56078431, 0.08627451,\n",
       "        0.03137255],\n",
       "       [0.12156863, 0.75294118, 0.27843137, ..., 0.60784314, 0.09411765,\n",
       "        0.10980392],\n",
       "       [0.21960784, 0.74509804, 0.26666667, ..., 0.64705882, 0.09019608,\n",
       "        0.20784314],\n",
       "       ...,\n",
       "       [0.        , 0.32156863, 0.54117647, ..., 0.33333333, 0.01568627,\n",
       "        0.        ],\n",
       "       [0.        , 0.31372549, 0.55294118, ..., 0.41960784, 0.01960784,\n",
       "        0.        ],\n",
       "       [0.        , 0.31764706, 0.55686275, ..., 0.58431373, 0.        ,\n",
       "        0.        ]])"
      ]
     },
     "execution_count": 44,
     "metadata": {},
     "output_type": "execute_result"
    }
   ],
   "source": [
    "X_tr"
   ]
  },
  {
   "cell_type": "code",
   "execution_count": 45,
   "metadata": {},
   "outputs": [
    {
     "name": "stdout",
     "output_type": "stream",
     "text": [
      "209\n"
     ]
    }
   ],
   "source": [
    "ones=0\n",
    "zeros=0\n",
    "for i in Y_tr[0,:]:\n",
    "    if(i):\n",
    "        ones+=1\n",
    "    else:\n",
    "        zeros+=1\n",
    "print(ones+zeros)"
   ]
  },
  {
   "cell_type": "code",
   "execution_count": 46,
   "metadata": {},
   "outputs": [
    {
     "data": {
      "text/plain": [
       "<matplotlib.image.AxesImage at 0x1a422df1c08>"
      ]
     },
     "execution_count": 46,
     "metadata": {},
     "output_type": "execute_result"
    },
    {
     "data": {
      "image/png": "[encoded data removed]",
      "text/plain": [
       "<Figure size 432x288 with 1 Axes>"
      ]
     },
     "metadata": {
      "needs_background": "light"
     },
     "output_type": "display_data"
    }
   ],
   "source": [
    "plt.imshow(TrainingImages[101,:,:,:])"
   ]
  },
  {
   "cell_type": "code",
   "execution_count": 47,
   "metadata": {},
   "outputs": [],
   "source": [
    "m=X_tr.shape[1]"
   ]
  },
  {
   "cell_type": "code",
   "execution_count": 48,
   "metadata": {},
   "outputs": [],
   "source": [
    "def initialize_random(neural_layers):\n",
    "    for_dict=dict()\n",
    "    for i in range(1,len(neural_layers)):\n",
    "        for_dict[\"W\"+str(i)]=np.random.randn(neural_layers[i],neural_layers[i-1])*0.01\n",
    "        for_dict[\"b\"+str(i)]=np.zeros((neural_layers[i],1))\n",
    "    return for_dict"
   ]
  },
  {
   "cell_type": "code",
   "execution_count": null,
   "metadata": {},
   "outputs": [],
   "source": []
  },
  {
   "cell_type": "code",
   "execution_count": 49,
   "metadata": {},
   "outputs": [],
   "source": [
    "def sigmoid(X):\n",
    "    return np.divide(1,1+np.exp(-X))"
   ]
  },
  {
   "cell_type": "code",
   "execution_count": 50,
   "metadata": {},
   "outputs": [],
   "source": [
    "def relu(X):\n",
    "    return np.maximum(0,X)   "
   ]
  },
  {
   "cell_type": "code",
   "execution_count": 51,
   "metadata": {},
   "outputs": [],
   "source": [
    "def der_sigmoid(X):\n",
    "    s=sigmoid(X)\n",
    "    Z=s*(1-s)\n",
    "    return Z    "
   ]
  },
  {
   "cell_type": "code",
   "execution_count": 52,
   "metadata": {},
   "outputs": [],
   "source": [
    "#  def der_tanh(X):"
   ]
  },
  {
   "cell_type": "code",
   "execution_count": 53,
   "metadata": {},
   "outputs": [],
   "source": [
    "def der_relu(X):\n",
    "    X[X<=0]=0\n",
    "    return X"
   ]
  },
  {
   "cell_type": "code",
   "execution_count": 55,
   "metadata": {},
   "outputs": [],
   "source": [
    "def forward_propagation(X,y,neural_layers,for_dict):\n",
    "    for i in range(1,len(neural_layers)):\n",
    "        if(i==1):\n",
    "            for_dict[\"Z\"+str(i)]=np.dot(for_dict[\"W\"+str(i)],X)+for_dict[\"b\"+str(i)]\n",
    "        else:\n",
    "            for_dict[\"Z\"+str(i)]=np.dot(for_dict[\"W\"+str(i)],for_dict[\"A\"+str(i-1)])+for_dict[\"b\"+str(i)]\n",
    "        abc=for_dict[\"Non_linear\"+str(i)]\n",
    "        if(abc==\"sigmoid\"):\n",
    "            for_dict[\"A\"+str(i)]=sigmoid(for_dict[\"Z\"+str(i)])\n",
    "        elif(abc==\"relu\"):\n",
    "            for_dict[\"A\"+str(i)]=relu(for_dict[\"Z\"+str(i)])\n",
    "        elif(abc==\"tanh\"):\n",
    "            for_dict[\"A\"+str(i)]=np.tanh(for_dict[\"Z\"+str(i)])\n",
    "    cost1=(-1)*(np.multiply(y,np.log(for_dict[\"A\"+str(len(neural_layers)-1)]))+np.multiply((1-y),np.log(1-for_dict[\"A\"+str(len(neural_layers)-1)])))\n",
    "    cost=(1/m)*cost1.sum()\n",
    "    return for_dict,cost   "
   ]
  },
  {
   "cell_type": "code",
   "execution_count": 56,
   "metadata": {},
   "outputs": [],
   "source": [
    "def forward_propagatio(X,y,neural_layers,for_dict):\n",
    "    for i in range(1,len(neural_layers)):\n",
    "        if(i==1):\n",
    "            for_dict[\"Z\"+str(i)]=np.dot(for_dict[\"W\"+str(i)],X)+for_dict[\"b\"+str(i)]\n",
    "        else:\n",
    "            for_dict[\"Z\"+str(i)]=np.dot(for_dict[\"W\"+str(i)],for_dict[\"A\"+str(i-1)])+for_dict[\"b\"+str(i)]\n",
    "        abc=for_dict[\"Non_linear\"+str(i)]\n",
    "        for_dict[\"A\"+str(i)]=sigmoid(for_dict[\"Z\"+str(i)])\n",
    "    cost=(-1)*np.sum(np.multiply(y,np.log(for_dict[\"A\"+str(len(neural_layers)-1)]))+np.multiply((1-y),np.log(1-for_dict[\"A\"+str(len(neural_layers)-1)])),axis=1)/X.shape[1]\n",
    "    return for_dict,cost   "
   ]
  },
  {
   "cell_type": "code",
   "execution_count": 57,
   "metadata": {},
   "outputs": [],
   "source": [
    "def forward_propagatio(X,y,neural_layers,for_dict):\n",
    "    for i in range(1,len(neural_layers)):\n",
    "        W=for_dict[\"W\"+str(i)]\n",
    "        b=for_dict[\"b\"+str(i)]\n",
    "        for_dict[\"Z\"+str(i)]=np.dot(W,X)+b\n",
    "        abc=for_dict[\"Non_linear\"+str(i)]\n",
    "        if(abc==\"sigmoid\"):\n",
    "            for_dict[\"A\"+str(i)]=sigmoid(for_dict[\"Z\"+str(i)])\n",
    "        elif(abc==\"relu\"):\n",
    "            for_dict[\"A\"+str(i)]=relu(for_dict[\"Z\"+str(i)])\n",
    "        elif(abc==\"tanh\"):\n",
    "            for_dict[\"A\"+str(i)]=np.tanh(for_dict[\"Z\"+str(i)])\n",
    "        X=for_dict[\"A\"+str(i-1)]\n",
    "    cost1=(-1/m)*(np.multiply(y,np.log(X))+np.multiply((1-y),np.log(1-X)))\n",
    "    cost=cost1.sum()\n",
    "    return for_dict,cost"
   ]
  },
  {
   "cell_type": "code",
   "execution_count": 58,
   "metadata": {},
   "outputs": [],
   "source": [
    "def back_propagatio(X,y,layers,for_dict,back_dict):\n",
    "    m=X.shape[1]\n",
    "    n=len(layers)-1\n",
    "    for i in range(n,0,-1):\n",
    "        abc=for_dict[\"Non_linear\"+str(i)]\n",
    "        if(i==n):\n",
    "            back_dict[\"dZ\"+str(i)]=for_dict[\"A\"+str(i)]-y\n",
    "        else:\n",
    "            if(abc==\"sigmoid\"):\n",
    "                back_dict[\"dZ\"+str(i)]=np.dot(for_dict(\"W\"+str(i+1)).T,back_dict(\"dZ\"+str(i+1)))*der_sigmoid(for_dict(\"Z\"+str(i)))\n",
    "            elif(abc==\"relu\"):\n",
    "                back_dict[\"dZ\"+str(i)]=np.dot(for_dict(\"W\"+str(i+1)).T,back_dict(\"dZ\"+str(i+1)))*der_relu(for_dict(\"Z\"+str(i)))\n",
    "            elif(abc==\"tanh\"):\n",
    "                back_dict[\"dZ\"+str(i)]=np.dot(for_dict(\"W\"+str(i+1)).T,back_dict(\"dZ\"+str(i+1)))*der_sigmoid(for_dict(\"Z\"+str(i)))\n",
    "        if(i==1):\n",
    "            back_dict[\"dW\"+str(i)]=np.dot(back_dict[\"dZ\"+str(i)],X.T)/m\n",
    "        else:\n",
    "            back_dict[\"dW\"+str(i)]=np.dot(back_dict[\"dZ\"+str(i)],for_dict[\"A\"+str(n-1)].T)/m\n",
    "        back_dict[\"db\"+str(i)]=np.sum(back_dict[\"dZ\"+str(i)],axis=1,keepdims=True)/m  \n",
    "    return back_dict"
   ]
  },
  {
   "cell_type": "code",
   "execution_count": 59,
   "metadata": {},
   "outputs": [],
   "source": [
    "def back_propagatio(X,y,layers,for_dict,back_dict):\n",
    "    m=X.shape[1]\n",
    "    n=len(layers)-1\n",
    "    for i in range(n,0,-1):\n",
    "        abc=for_dict[\"Non_linear\"+str(i)]\n",
    "        if(i==n):\n",
    "            back_dict[\"dZ\"+str(i)]=for_dict[\"A\"+str(i)]-y\n",
    "        else:\n",
    "            if(abc==\"sigmoid\"):\n",
    "                back_dict[\"dZ\"+str(i)]=np.multiply(np.dot(for_dict[\"W\"+str(i+1)].T,back_dict[\"dZ\"+str(i+1)]),der_sigmoid(for_dict[\"Z\"+str(i)]))   \n",
    "            elif(abc==\"relu\"):\n",
    "                back_dict[\"dZ\"+str(i)]=np.multiply(np.dot(for_dict[\"W\"+str(i+1)].T,back_dict[\"dZ\"+str(i+1)]),der_relu(for_dict[\"Z\"+str(i)]))  \n",
    "        if(i==1):\n",
    "            back_dict[\"dW\"+str(i)]=np.dot(back_dict[\"dZ\"+str(i)],X.T)/m\n",
    "        else:\n",
    "            back_dict[\"dW\"+str(i)]=(1/m)*np.dot(back_dict[\"dZ\"+str(i)],for_dict[\"A\"+str(i-1)].T)\n",
    "        back_dict[\"db\"+str(i)]=(1/m)*np.sum(back_dict[\"dZ\"+str(i)],axis=1,keepdims=True)\n",
    "    return back_dict,for_dict"
   ]
  },
  {
   "cell_type": "code",
   "execution_count": 60,
   "metadata": {},
   "outputs": [],
   "source": [
    "def backprop(X,y,layers,for_dict,back_dict):\n",
    "    m=X.shape[1]\n",
    "    n=len(layers)-1\n",
    "    back_dict[\"dZ\"+str(n)]=for_dict[\"A\"+str(n)]-y\n",
    "    back_dict[\"dW\"+str(n)]=(1/m)*np.dot(back_dict[\"dZ\"+str(n)],for_dict[\"A\"+str(n-1)].T)\n",
    "    back_dict[\"db\"+str(n)]=(1/m)*np.sum(back_dict[\"dZ\"+str(n)],axis=1,keepdims=True)\n",
    "    back_dict[\"dZ\"+str(n-1)]=np.multiply(np.dot(for_dict[\"W\"+str(n)].T,back_dict[\"dZ\"+str(n)]),der_sigmoid(for_dict[\"Z\"+str(n-1)]))\n",
    "    back_dict[\"dW\"+str(n-1)]=(1/m)*np.dot(back_dict[\"dZ\"+str(n-1)],X.T)\n",
    "    back_dict[\"db\"+str(n-1)]=(1/m)*np.sum(back_dict[\"dZ\"+str(n-1)],axis=1,keepdims=True)\n",
    "    return back_dict,for_dict"
   ]
  },
  {
   "cell_type": "code",
   "execution_count": 61,
   "metadata": {},
   "outputs": [],
   "source": [
    "def back_propagation(X,y,layers,for_dict,back_dict):\n",
    "    m=X.shape[1]\n",
    "    n=len(layers)-1\n",
    "    back_dict[\"dZ\"+str(n)]=for_dict[\"A\"+str(n)]-y\n",
    "    back_dict[\"dW\"+str(n)]=(1/m)*np.dot(back_dict[\"dZ\"+str(n)],for_dict[\"A\"+str(n-1)].T)\n",
    "    back_dict[\"db\"+str(n)]=(1/m)*np.sum(back_dict[\"dZ\"+str(n)],axis=1,keepdims=True)\n",
    "    back_dict[\"dZ\"+str(n-1)]=np.multiply(np.dot(for_dict[\"W\"+str(n)].T,back_dict[\"dZ\"+str(n)]),der_sigmoid(for_dict[\"Z\"+str(n-1)]))\n",
    "    back_dict[\"dW\"+str(n-1)]=(1/m)*np.dot(back_dict[\"dZ\"+str(n-1)],for_dict[\"A\"+str(n-2)].T)\n",
    "    back_dict[\"db\"+str(n-1)]=(1/m)*np.sum(back_dict[\"dZ\"+str(n-1)],axis=1,keepdims=True)\n",
    "    for i in range(n-2,1,-1):      \n",
    "        back_dict[\"dZ\"+str(i)]=np.multiply(np.dot(for_dict[\"W\"+str(i+1)].T,back_dict[\"dZ\"+str(i+1)]),der_relu(for_dict[\"Z\"+str(i)]))  \n",
    "        back_dict[\"dW\"+str(i)]=(1/m)*np.dot(back_dict[\"dZ\"+str(i)],for_dict[\"A\"+str(i-1)].T)\n",
    "        back_dict[\"db\"+str(i)]=(1/m)*np.sum(back_dict[\"dZ\"+str(i)],axis=1,keepdims=True)\n",
    "    back_dict[\"dZ\"+str(1)]=np.multiply(np.dot(for_dict[\"W\"+str(2)].T,back_dict[\"dZ\"+str(2)]),der_relu(for_dict[\"Z\"+str(1)])) \n",
    "    back_dict[\"dW\"+str(1)]=np.dot(back_dict[\"dZ\"+str(1)],X.T)/m\n",
    "    back_dict[\"db\"+str(1)]=(1/m)*np.sum(back_dict[\"dZ\"+str(1)],axis=1,keepdims=True)\n",
    "    return back_dict,for_dict"
   ]
  },
  {
   "cell_type": "code",
   "execution_count": 62,
   "metadata": {},
   "outputs": [],
   "source": [
    "def back_propagatio(X,y,layers,for_dict,back_dict):\n",
    "    m=X.shape[1]\n",
    "    n=len(layers)-1\n",
    "    for i in range(n,0,-1):\n",
    "        abc=for_dict[\"Non_linear\"+str(i)]\n",
    "        if(i==n):\n",
    "            back_dict[\"dZ\"+str(i)]=for_dict[\"A\"+str(i)]-y\n",
    "        else:\n",
    "            back_dict[\"dZ\"+str(i)]=np.multiply(np.dot(for_dict[\"W\"+str(i+1)].T,back_dict[\"dZ\"+str(i+1)]),der_sigmoid(for_dict[\"Z\"+str(i)]))   \n",
    "        if(i==1):\n",
    "            back_dict[\"dW\"+str(i)]=np.dot(back_dict[\"dZ\"+str(i)],X.T)/m\n",
    "        else:\n",
    "            back_dict[\"dW\"+str(i)]=(1/m)*np.dot(back_dict[\"dZ\"+str(i)],for_dict[\"A\"+str(i-1)].T)\n",
    "        back_dict[\"db\"+str(i)]=(1/m)*np.sum(back_dict[\"dZ\"+str(i)],axis=1,keepdims=True)/m  \n",
    "    return back_dict,for_dict"
   ]
  },
  {
   "cell_type": "code",
   "execution_count": 63,
   "metadata": {},
   "outputs": [
    {
     "name": "stdout",
     "output_type": "stream",
     "text": [
      "5\n",
      "4\n",
      "3\n",
      "2\n"
     ]
    }
   ],
   "source": [
    "for i in range(5,1,-1):\n",
    "    print(i)"
   ]
  },
  {
   "cell_type": "code",
   "execution_count": 64,
   "metadata": {},
   "outputs": [],
   "source": [
    "def model(X,y,neural_layers,alpha,iterations):\n",
    "    for_dict=initialize_random(neural_layers)\n",
    "    #check for_dict weights dimensions\n",
    "   # for i in range(1,len(neural_layers)):\n",
    "    #    assert(for_dict[\"W\"+str(i)].shape==(neural_layers[i],neural_layers[i-1]))\n",
    "     #   assert(for_dict[\"b\"+str(i)].shape==(neural_layers[i],1)\n",
    "               \n",
    "    for i in range(1,len(neural_layers)):\n",
    "        if(i==(len(neural_layers)-1)):\n",
    "            for_dict[\"Non_linear\"+str(i)]=\"sigmoid\"\n",
    "        else:\n",
    "            for_dict[\"Non_linear\"+str(i)]=\"relu\"\n",
    "    rec_cost=[]\n",
    "    back_dict=dict()\n",
    "    for i in range(iterations):\n",
    "        for_dict,cost=forward_propagation(X,y,neural_layers,for_dict)\n",
    "        #rec_cost.append(cost)\n",
    "        if(i%100==0):\n",
    "            rec_cost.append(cost)\n",
    "        back_dict,for_dict=back_propagation(X,y,neural_layers,for_dict,back_dict)\n",
    "        for i in range(1,len(neural_layers)):\n",
    "            for_dict[\"W\"+str(i)]=for_dict[\"W\"+str(i)]-alpha*back_dict[\"dW\"+str(i)]\n",
    "            for_dict[\"b\"+str(i)]=for_dict[\"b\"+str(i)]-alpha*back_dict[\"db\"+str(i)]\n",
    "    return for_dict,rec_cost"
   ]
  },
  {
   "cell_type": "code",
   "execution_count": 65,
   "metadata": {},
   "outputs": [],
   "source": [
    "def model2(X,y,neural_layers,alpha,iterations):\n",
    "    for_dict=initialize_random(neural_layers)\n",
    "    for i in range(1,len(neural_layers)):\n",
    "        if(i==(len(neural_layers)-1)):\n",
    "            for_dict[\"Non_linear\"+str(i)]=\"sigmoid\"\n",
    "        else:\n",
    "            for_dict[\"Non_linear\"+str(i)]=\"relu\"\n",
    "    rec_cost=[]\n",
    "    back_dict=dict()\n",
    "    for i in range(iterations):\n",
    "        for_dict,cost=forward_propagation(X,y,neural_layers,for_dict)\n",
    "        #rec_cost.append(cost)\n",
    "        if(i%100==0):\n",
    "            rec_cost.append(cost)\n",
    "        back_dict,for_dict=backprop(X,y,neural_layers,for_dict,back_dict)\n",
    "        for i in range(1,len(neural_layers)):\n",
    "            for_dict[\"W\"+str(i)]=for_dict[\"W\"+str(i)]-alpha*back_dict[\"dW\"+str(i)]\n",
    "            for_dict[\"b\"+str(i)]=for_dict[\"b\"+str(i)]-alpha*back_dict[\"db\"+str(i)]\n",
    "    return for_dict,rec_cost"
   ]
  },
  {
   "cell_type": "code",
   "execution_count": 66,
   "metadata": {},
   "outputs": [],
   "source": [
    "layers=3\n",
    "neural_layers=[X_tr.shape[0],7,1]"
   ]
  },
  {
   "cell_type": "code",
   "execution_count": 67,
   "metadata": {},
   "outputs": [
    {
     "data": {
      "text/plain": [
       "[12288, 7, 1]"
      ]
     },
     "execution_count": 67,
     "metadata": {},
     "output_type": "execute_result"
    }
   ],
   "source": [
    "neural_layers"
   ]
  },
  {
   "cell_type": "code",
   "execution_count": 68,
   "metadata": {},
   "outputs": [],
   "source": [
    "for_dict,costs=model2(X_tr,Y_tr,neural_layers,0.0075,2500)"
   ]
  },
  {
   "cell_type": "code",
   "execution_count": 69,
   "metadata": {
    "scrolled": true
   },
   "outputs": [
    {
     "data": {
      "text/plain": [
       "[<matplotlib.lines.Line2D at 0x1a422e653c8>]"
      ]
     },
     "execution_count": 69,
     "metadata": {},
     "output_type": "execute_result"
    },
    {
     "data": {
      "image/png": "[encoded data removed]",
      "text/plain": [
       "<Figure size 432x288 with 1 Axes>"
      ]
     },
     "metadata": {
      "needs_background": "light"
     },
     "output_type": "display_data"
    }
   ],
   "source": [
    "plt.plot(np.squeeze(costs))"
   ]
  },
  {
   "cell_type": "code",
   "execution_count": 70,
   "metadata": {},
   "outputs": [
    {
     "data": {
      "text/plain": [
       "[0.693049735659989,\n",
       " 0.6555548404137356,\n",
       " 0.6477885858276597,\n",
       " 0.6450583399200012,\n",
       " 0.6414830123019537,\n",
       " 0.6362613901604667,\n",
       " 0.6310129593634435,\n",
       " 0.6205949112725753,\n",
       " 0.6063017626258435,\n",
       " 0.5933591065349926,\n",
       " 0.5807075939419095,\n",
       " 0.5685962380906929,\n",
       " 0.5561849825189249,\n",
       " 0.5421286627107589,\n",
       " 0.5279113002887121,\n",
       " 0.5124702839322652,\n",
       " 0.49504169866601516,\n",
       " 0.47675520594758247,\n",
       " 0.4574114164999874,\n",
       " 0.4369131543439069,\n",
       " 0.41507960242251907,\n",
       " 0.39292011635369334,\n",
       " 0.3703214926027222,\n",
       " 0.3483284272052221,\n",
       " 0.3263621392995966]"
      ]
     },
     "execution_count": 70,
     "metadata": {},
     "output_type": "execute_result"
    }
   ],
   "source": [
    "costs"
   ]
  },
  {
   "cell_type": "code",
   "execution_count": 71,
   "metadata": {},
   "outputs": [],
   "source": [
    "import tensorflow as tf"
   ]
  },
  {
   "cell_type": "code",
   "execution_count": 72,
   "metadata": {
    "scrolled": true
   },
   "outputs": [
    {
     "ename": "AttributeError",
     "evalue": "module 'tensorflow' has no attribute 'placeholder'",
     "output_type": "error",
     "traceback": [
      "\u001b[1;31m---------------------------------------------------------------------------\u001b[0m",
      "\u001b[1;31mAttributeError\u001b[0m                            Traceback (most recent call last)",
      "\u001b[1;32m<ipython-input-72-1f3274794d39>\u001b[0m in \u001b[0;36m<module>\u001b[1;34m\u001b[0m\n\u001b[0;32m      2\u001b[0m \u001b[1;33m\u001b[0m\u001b[0m\n\u001b[0;32m      3\u001b[0m \u001b[0mw\u001b[0m\u001b[1;33m=\u001b[0m\u001b[0mtf\u001b[0m\u001b[1;33m.\u001b[0m\u001b[0mVariable\u001b[0m\u001b[1;33m(\u001b[0m\u001b[1;36m0\u001b[0m\u001b[1;33m,\u001b[0m\u001b[0mdtype\u001b[0m\u001b[1;33m=\u001b[0m\u001b[0mtf\u001b[0m\u001b[1;33m.\u001b[0m\u001b[0mfloat32\u001b[0m\u001b[1;33m)\u001b[0m\u001b[1;33m\u001b[0m\u001b[1;33m\u001b[0m\u001b[0m\n\u001b[1;32m----> 4\u001b[1;33m \u001b[0mx\u001b[0m\u001b[1;33m=\u001b[0m\u001b[0mtf\u001b[0m\u001b[1;33m.\u001b[0m\u001b[0mplaceholder\u001b[0m\u001b[1;33m(\u001b[0m\u001b[0mtf\u001b[0m\u001b[1;33m.\u001b[0m\u001b[0mfloat32\u001b[0m\u001b[1;33m,\u001b[0m\u001b[1;33m[\u001b[0m\u001b[1;36m3\u001b[0m\u001b[1;33m,\u001b[0m\u001b[1;36m1\u001b[0m\u001b[1;33m]\u001b[0m\u001b[1;33m)\u001b[0m\u001b[1;33m\u001b[0m\u001b[1;33m\u001b[0m\u001b[0m\n\u001b[0m\u001b[0;32m      5\u001b[0m \u001b[1;31m#cost=tf.add(tf.add(w**2,tf.multiply(-10.,w)),25)\u001b[0m\u001b[1;33m\u001b[0m\u001b[1;33m\u001b[0m\u001b[1;33m\u001b[0m\u001b[0m\n\u001b[0;32m      6\u001b[0m \u001b[0mcost\u001b[0m\u001b[1;33m=\u001b[0m\u001b[0mx\u001b[0m\u001b[1;33m[\u001b[0m\u001b[1;36m0\u001b[0m\u001b[1;33m]\u001b[0m\u001b[1;33m[\u001b[0m\u001b[1;36m0\u001b[0m\u001b[1;33m]\u001b[0m\u001b[1;33m*\u001b[0m\u001b[0mw\u001b[0m\u001b[1;33m**\u001b[0m\u001b[1;36m2\u001b[0m\u001b[1;33m+\u001b[0m\u001b[0mx\u001b[0m\u001b[1;33m[\u001b[0m\u001b[1;36m1\u001b[0m\u001b[1;33m]\u001b[0m\u001b[1;33m[\u001b[0m\u001b[1;36m0\u001b[0m\u001b[1;33m]\u001b[0m\u001b[1;33m*\u001b[0m\u001b[0mw\u001b[0m\u001b[1;33m+\u001b[0m\u001b[0mx\u001b[0m\u001b[1;33m[\u001b[0m\u001b[1;36m2\u001b[0m\u001b[1;33m]\u001b[0m\u001b[1;33m[\u001b[0m\u001b[1;36m0\u001b[0m\u001b[1;33m]\u001b[0m\u001b[1;33m\u001b[0m\u001b[1;33m\u001b[0m\u001b[0m\n",
      "\u001b[1;31mAttributeError\u001b[0m: module 'tensorflow' has no attribute 'placeholder'"
     ]
    }
   ],
   "source": [
    "coefficients=np.array([[1.],[-10.],[25.]])\n",
    "\n",
    "w=tf.Variable(0,dtype=tf.float32)\n",
    "x=tf.placeholder(tf.float32,[3,1])\n",
    "#cost=tf.add(tf.add(w**2,tf.multiply(-10.,w)),25)\n",
    "cost=x[0][0]*w**2+x[1][0]*w+x[2][0]\n",
    "train=tf.train.GradientDescentOptimizer(0.01).minimize(cost)\n",
    "init=tf.global_variables_initializer()\n",
    "session=tf.Session()\n",
    "session.run(init)\n",
    "print(session.run(w))"
   ]
  },
  {
   "cell_type": "code",
   "execution_count": null,
   "metadata": {},
   "outputs": [],
   "source": []
  }
 ],
 "metadata": {
  "kernelspec": {
   "display_name": "Python 3",
   "language": "python",
   "name": "python3"
  },
  "language_info": {
   "codemirror_mode": {
    "name": "ipython",
    "version": 3
   },
   "file_extension": ".py",
   "mimetype": "text/x-python",
   "name": "python",
   "nbconvert_exporter": "python",
   "pygments_lexer": "ipython3",
   "version": "3.7.7"
  }
 },
 "nbformat": 4,
 "nbformat_minor": 4
}
